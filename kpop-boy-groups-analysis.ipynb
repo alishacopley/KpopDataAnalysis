{
 "cells": [
  {
   "cell_type": "markdown",
   "metadata": {},
   "source": [
    "https://www.kaggle.com/code/mpwolke/kpop-idols-boy-groups/"
   ]
  },
  {
   "cell_type": "code",
   "execution_count": 5,
   "metadata": {},
   "outputs": [],
   "source": [
    "import pandas as pd\n",
    "import csv\n",
    "import matplotlib.pyplot as plt\n",
    "import os"
   ]
  },
  {
   "cell_type": "code",
   "execution_count": 6,
   "metadata": {},
   "outputs": [
    {
     "name": "stdout",
     "output_type": "stream",
     "text": [
      "    Name Short Korean Name       Debut       Company  Members  Orig. Memb.  \\\n",
      "0   100%   NaN        백퍼센트  2012-09-18     TOP Media        4            7   \n",
      "1    14U   NaN         원포유  2017-04-17            BG       14           14   \n",
      "2  1the9   NaN        원더나인  2019-02-09           MBK        9            9   \n",
      "3    24K   NaN        투포케이  2012-09-06        Choeun        8            6   \n",
      "4    2AM   NaN        투에이엠  2008-06-21  JYP, Big Hit        4            4   \n",
      "\n",
      "  Fanclub Name Active  \n",
      "0   Perfection    Yes  \n",
      "1          NaN    Yes  \n",
      "2          NaN    Yes  \n",
      "3          24U    Yes  \n",
      "4         I Am     No  \n"
     ]
    }
   ],
   "source": [
    "# Create a data frame\n",
    "df = pd.read_csv(\"kpop_idols_boy_groups.csv\")\n",
    "print(df.head())"
   ]
  },
  {
   "cell_type": "code",
   "execution_count": 7,
   "metadata": {},
   "outputs": [
    {
     "name": "stdout",
     "output_type": "stream",
     "text": [
      "               Name Korean Name       Debut       Company  Members  \\\n",
      "0              100%        백퍼센트  2012-09-18     TOP Media        4   \n",
      "1               14U         원포유  2017-04-17            BG       14   \n",
      "2             1the9        원더나인  2019-02-09           MBK        9   \n",
      "3               24K        투포케이  2012-09-06        Choeun        8   \n",
      "4               2AM        투에이엠  2008-06-21  JYP, Big Hit        4   \n",
      "..              ...         ...         ...           ...      ...   \n",
      "142        VROMANCE        브로맨스  2016-06-12           RBW        4   \n",
      "143       Wanna One         워너원  2017-08-07           YMC       11   \n",
      "144  We In The Zone        위인더존  2019-05-27         Choon        5   \n",
      "145          WINNER          위너  2014-08-12            YG        4   \n",
      "146            ZE:A     제국의 아이들  2010-01-07   Star Empire        9   \n",
      "\n",
      "     Orig. Memb.  Active  \n",
      "0              7     Yes  \n",
      "1             14     Yes  \n",
      "2              9     Yes  \n",
      "3              6     Yes  \n",
      "4              4      No  \n",
      "..           ...     ...  \n",
      "142            4     Yes  \n",
      "143           11      No  \n",
      "144            5     Yes  \n",
      "145            5     Yes  \n",
      "146            9  Hiatus  \n",
      "\n",
      "[147 rows x 7 columns]\n"
     ]
    }
   ],
   "source": [
    "# Remove Short column from Data Frame\n",
    "df.drop('Short', axis=1, inplace=True)\n",
    "\n",
    "# Remove Fanclub Name column from Data Frame\n",
    "df.drop('Fanclub Name', axis=1, inplace=True)\n",
    "print(df)"
   ]
  }
 ],
 "metadata": {
  "kernelspec": {
   "display_name": "Python 3.9.12 ('base')",
   "language": "python",
   "name": "python3"
  },
  "language_info": {
   "codemirror_mode": {
    "name": "ipython",
    "version": 3
   },
   "file_extension": ".py",
   "mimetype": "text/x-python",
   "name": "python",
   "nbconvert_exporter": "python",
   "pygments_lexer": "ipython3",
   "version": "3.9.12"
  },
  "orig_nbformat": 4,
  "vscode": {
   "interpreter": {
    "hash": "bbab9a5d60e967f1c0ef9a24df9e3b901bd1c2f0a61b78c54ec71691186d555f"
   }
  }
 },
 "nbformat": 4,
 "nbformat_minor": 2
}
