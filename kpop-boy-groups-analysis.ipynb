{
 "cells": [
  {
   "cell_type": "markdown",
   "metadata": {},
   "source": [
    "https://www.kaggle.com/code/mpwolke/kpop-idols-boy-groups/"
   ]
  },
  {
   "cell_type": "code",
   "execution_count": 59,
   "metadata": {},
   "outputs": [
    {
     "data": {
      "text/html": [
       "<div>\n",
       "<style scoped>\n",
       "    .dataframe tbody tr th:only-of-type {\n",
       "        vertical-align: middle;\n",
       "    }\n",
       "\n",
       "    .dataframe tbody tr th {\n",
       "        vertical-align: top;\n",
       "    }\n",
       "\n",
       "    .dataframe thead th {\n",
       "        text-align: right;\n",
       "    }\n",
       "</style>\n",
       "<table border=\"1\" class=\"dataframe\">\n",
       "  <thead>\n",
       "    <tr style=\"text-align: right;\">\n",
       "      <th></th>\n",
       "      <th>Name</th>\n",
       "      <th>Short</th>\n",
       "      <th>Korean Name</th>\n",
       "      <th>Debut</th>\n",
       "      <th>Company</th>\n",
       "      <th>Members</th>\n",
       "      <th>Orig. Memb.</th>\n",
       "      <th>Fanclub Name</th>\n",
       "      <th>Active</th>\n",
       "    </tr>\n",
       "  </thead>\n",
       "  <tbody>\n",
       "    <tr>\n",
       "      <th>0</th>\n",
       "      <td>100%</td>\n",
       "      <td>NaN</td>\n",
       "      <td>백퍼센트</td>\n",
       "      <td>2012-09-18</td>\n",
       "      <td>TOP Media</td>\n",
       "      <td>4</td>\n",
       "      <td>7</td>\n",
       "      <td>Perfection</td>\n",
       "      <td>Yes</td>\n",
       "    </tr>\n",
       "    <tr>\n",
       "      <th>1</th>\n",
       "      <td>14U</td>\n",
       "      <td>NaN</td>\n",
       "      <td>원포유</td>\n",
       "      <td>2017-04-17</td>\n",
       "      <td>BG</td>\n",
       "      <td>14</td>\n",
       "      <td>14</td>\n",
       "      <td>NaN</td>\n",
       "      <td>Yes</td>\n",
       "    </tr>\n",
       "    <tr>\n",
       "      <th>2</th>\n",
       "      <td>1the9</td>\n",
       "      <td>NaN</td>\n",
       "      <td>원더나인</td>\n",
       "      <td>2019-02-09</td>\n",
       "      <td>MBK</td>\n",
       "      <td>9</td>\n",
       "      <td>9</td>\n",
       "      <td>NaN</td>\n",
       "      <td>Yes</td>\n",
       "    </tr>\n",
       "    <tr>\n",
       "      <th>3</th>\n",
       "      <td>24K</td>\n",
       "      <td>NaN</td>\n",
       "      <td>투포케이</td>\n",
       "      <td>2012-09-06</td>\n",
       "      <td>Choeun</td>\n",
       "      <td>8</td>\n",
       "      <td>6</td>\n",
       "      <td>24U</td>\n",
       "      <td>Yes</td>\n",
       "    </tr>\n",
       "    <tr>\n",
       "      <th>4</th>\n",
       "      <td>2AM</td>\n",
       "      <td>NaN</td>\n",
       "      <td>투에이엠</td>\n",
       "      <td>2008-06-21</td>\n",
       "      <td>JYP, Big Hit</td>\n",
       "      <td>4</td>\n",
       "      <td>4</td>\n",
       "      <td>I Am</td>\n",
       "      <td>No</td>\n",
       "    </tr>\n",
       "  </tbody>\n",
       "</table>\n",
       "</div>"
      ],
      "text/plain": [
       "    Name Short Korean Name      Debut       Company  Members  Orig. Memb.  \\\n",
       "0   100%   NaN        백퍼센트 2012-09-18     TOP Media        4            7   \n",
       "1    14U   NaN         원포유 2017-04-17            BG       14           14   \n",
       "2  1the9   NaN        원더나인 2019-02-09           MBK        9            9   \n",
       "3    24K   NaN        투포케이 2012-09-06        Choeun        8            6   \n",
       "4    2AM   NaN        투에이엠 2008-06-21  JYP, Big Hit        4            4   \n",
       "\n",
       "  Fanclub Name Active  \n",
       "0   Perfection    Yes  \n",
       "1          NaN    Yes  \n",
       "2          NaN    Yes  \n",
       "3          24U    Yes  \n",
       "4         I Am     No  "
      ]
     },
     "execution_count": 59,
     "metadata": {},
     "output_type": "execute_result"
    }
   ],
   "source": [
    "# Import libraries\n",
    "\n",
    "import pandas as pd\n",
    "import numpy as np\n",
    "import matplotlib.pyplot as plt\n",
    "kpop_boygroups_data = pd.read_csv(\"kpop_idols_boy_groups.csv\", parse_dates=['Debut'])\n",
    "kpop_boygroups_data.head()"
   ]
  },
  {
   "cell_type": "code",
   "execution_count": 60,
   "metadata": {},
   "outputs": [
    {
     "name": "stdout",
     "output_type": "stream",
     "text": [
      "               Name      Debut       Company  Members  Orig. Memb.  Active\n",
      "0              100% 2012-09-18     TOP Media        4            7     Yes\n",
      "1               14U 2017-04-17            BG       14           14     Yes\n",
      "2             1the9 2019-02-09           MBK        9            9     Yes\n",
      "3               24K 2012-09-06        Choeun        8            6     Yes\n",
      "4               2AM 2008-06-21  JYP, Big Hit        4            4      No\n",
      "..              ...        ...           ...      ...          ...     ...\n",
      "142        VROMANCE 2016-06-12           RBW        4            4     Yes\n",
      "143       Wanna One 2017-08-07           YMC       11           11      No\n",
      "144  We In The Zone 2019-05-27         Choon        5            5     Yes\n",
      "145          WINNER 2014-08-12            YG        4            5     Yes\n",
      "146            ZE:A 2010-01-07   Star Empire        9            9  Hiatus\n",
      "\n",
      "[147 rows x 6 columns]\n"
     ]
    }
   ],
   "source": [
    "# Clean the data and create desired dataframe\n",
    "\n",
    "kpop_boygroups_data_df = kpop_boygroups_data.drop(columns=['Short', 'Korean Name', 'Fanclub Name'])\n",
    "print(kpop_boygroups_data_df)"
   ]
  },
  {
   "cell_type": "code",
   "execution_count": 61,
   "metadata": {},
   "outputs": [
    {
     "data": {
      "text/plain": [
       "0       4\n",
       "1      14\n",
       "2       9\n",
       "3       8\n",
       "4       4\n",
       "       ..\n",
       "142     4\n",
       "143    11\n",
       "144     5\n",
       "145     4\n",
       "146     9\n",
       "Name: Members, Length: 147, dtype: int64"
      ]
     },
     "execution_count": 61,
     "metadata": {},
     "output_type": "execute_result"
    }
   ],
   "source": [
    "# Work with the Members column to analyze the numbers in it\n",
    "\n",
    "kpop_boygroups_data_df[\"Members\"]"
   ]
  },
  {
   "cell_type": "code",
   "execution_count": 62,
   "metadata": {},
   "outputs": [
    {
     "name": "stdout",
     "output_type": "stream",
     "text": [
      "5.938775510204081\n"
     ]
    }
   ],
   "source": [
    "# Calculate the mean of the Members column\n",
    "\n",
    "mean_members = kpop_boygroups_data_df[\"Members\"].mean()\n",
    "print(mean_members)"
   ]
  },
  {
   "cell_type": "code",
   "execution_count": 63,
   "metadata": {},
   "outputs": [
    {
     "name": "stdout",
     "output_type": "stream",
     "text": [
      "5.0\n"
     ]
    }
   ],
   "source": [
    "# Calculate the median of the Members column\n",
    "\n",
    "median_members = kpop_boygroups_data_df[\"Members\"].median()\n",
    "print(median_members)"
   ]
  },
  {
   "cell_type": "code",
   "execution_count": 64,
   "metadata": {},
   "outputs": [
    {
     "name": "stdout",
     "output_type": "stream",
     "text": [
      "0    5\n",
      "Name: Members, dtype: int64\n"
     ]
    }
   ],
   "source": [
    "# Calculate the mode of Members column\n",
    "\n",
    "mode_members = kpop_boygroups_data_df[\"Members\"].mode()\n",
    "print(mode_members)"
   ]
  },
  {
   "cell_type": "code",
   "execution_count": 65,
   "metadata": {},
   "outputs": [
    {
     "data": {
      "text/plain": [
       "0       7\n",
       "1      14\n",
       "2       9\n",
       "3       6\n",
       "4       4\n",
       "       ..\n",
       "142     4\n",
       "143    11\n",
       "144     5\n",
       "145     5\n",
       "146     9\n",
       "Name: Orig. Memb., Length: 147, dtype: int64"
      ]
     },
     "execution_count": 65,
     "metadata": {},
     "output_type": "execute_result"
    }
   ],
   "source": [
    "# Work with the Original Members column to analyze the numbers in it\n",
    "\n",
    "kpop_boygroups_data_df[\"Orig. Memb.\"]"
   ]
  },
  {
   "cell_type": "code",
   "execution_count": 66,
   "metadata": {},
   "outputs": [
    {
     "name": "stdout",
     "output_type": "stream",
     "text": [
      "6.346938775510204\n"
     ]
    }
   ],
   "source": [
    "# Calculate the mean of the Original Members column\n",
    "\n",
    "mean_original = kpop_boygroups_data_df[\"Orig. Memb.\"].mean()\n",
    "print(mean_original)"
   ]
  },
  {
   "cell_type": "code",
   "execution_count": 67,
   "metadata": {},
   "outputs": [
    {
     "name": "stdout",
     "output_type": "stream",
     "text": [
      "6.0\n"
     ]
    }
   ],
   "source": [
    "# Calculate the median of the Original Members column\n",
    "\n",
    "median_original = kpop_boygroups_data_df[\"Orig. Memb.\"].median()\n",
    "print(median_original)"
   ]
  },
  {
   "cell_type": "code",
   "execution_count": 68,
   "metadata": {},
   "outputs": [
    {
     "name": "stdout",
     "output_type": "stream",
     "text": [
      "0    5\n",
      "Name: Orig. Memb., dtype: int64\n"
     ]
    }
   ],
   "source": [
    "# Calculate the mode of the Original Members column\n",
    "\n",
    "mode_original = kpop_boygroups_data_df[\"Orig. Memb.\"].mode()\n",
    "print(mode_original)"
   ]
  },
  {
   "cell_type": "code",
   "execution_count": 69,
   "metadata": {},
   "outputs": [
    {
     "data": {
      "text/plain": [
       "0     2012-09-18\n",
       "1     2017-04-17\n",
       "2     2019-02-09\n",
       "3     2012-09-06\n",
       "4     2008-06-21\n",
       "         ...    \n",
       "142   2016-06-12\n",
       "143   2017-08-07\n",
       "144   2019-05-27\n",
       "145   2014-08-12\n",
       "146   2010-01-07\n",
       "Name: Debut, Length: 147, dtype: datetime64[ns]"
      ]
     },
     "execution_count": 69,
     "metadata": {},
     "output_type": "execute_result"
    }
   ],
   "source": [
    "# Work with Debut column only\n",
    "\n",
    "kpop_boygroups_data_df[\"Debut\"]"
   ]
  },
  {
   "cell_type": "code",
   "execution_count": 70,
   "metadata": {},
   "outputs": [
    {
     "name": "stdout",
     "output_type": "stream",
     "text": [
      "2015-05-26 00:00:00\n"
     ]
    }
   ],
   "source": [
    "# Calculate median of Debut column\n",
    "\n",
    "median_debut = kpop_boygroups_data_df[\"Debut\"].median()\n",
    "print(median_debut)"
   ]
  },
  {
   "cell_type": "code",
   "execution_count": 71,
   "metadata": {},
   "outputs": [
    {
     "name": "stdout",
     "output_type": "stream",
     "text": [
      "0   2009-10-14\n",
      "1   2014-07-09\n",
      "2   2015-05-20\n",
      "3   2016-02-23\n",
      "Name: Debut, dtype: datetime64[ns]\n"
     ]
    }
   ],
   "source": [
    "# Calculate mode of Debut column\n",
    "\n",
    "mode_debut = kpop_boygroups_data_df[\"Debut\"].mode()\n",
    "print(mode_debut)"
   ]
  }
 ],
 "metadata": {
  "kernelspec": {
   "display_name": "Python 3.9.12 ('base')",
   "language": "python",
   "name": "python3"
  },
  "language_info": {
   "codemirror_mode": {
    "name": "ipython",
    "version": 3
   },
   "file_extension": ".py",
   "mimetype": "text/x-python",
   "name": "python",
   "nbconvert_exporter": "python",
   "pygments_lexer": "ipython3",
   "version": "3.9.12"
  },
  "orig_nbformat": 4,
  "vscode": {
   "interpreter": {
    "hash": "bbab9a5d60e967f1c0ef9a24df9e3b901bd1c2f0a61b78c54ec71691186d555f"
   }
  }
 },
 "nbformat": 4,
 "nbformat_minor": 2
}
