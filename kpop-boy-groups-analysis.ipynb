{
 "cells": [
  {
   "cell_type": "markdown",
   "metadata": {},
   "source": [
    "https://www.kaggle.com/code/mpwolke/kpop-idols-boy-groups/"
   ]
  },
  {
   "cell_type": "code",
   "execution_count": 103,
   "metadata": {},
   "outputs": [
    {
     "data": {
      "text/html": [
       "<div>\n",
       "<style scoped>\n",
       "    .dataframe tbody tr th:only-of-type {\n",
       "        vertical-align: middle;\n",
       "    }\n",
       "\n",
       "    .dataframe tbody tr th {\n",
       "        vertical-align: top;\n",
       "    }\n",
       "\n",
       "    .dataframe thead th {\n",
       "        text-align: right;\n",
       "    }\n",
       "</style>\n",
       "<table border=\"1\" class=\"dataframe\">\n",
       "  <thead>\n",
       "    <tr style=\"text-align: right;\">\n",
       "      <th></th>\n",
       "      <th>Name</th>\n",
       "      <th>Short</th>\n",
       "      <th>Korean Name</th>\n",
       "      <th>Debut</th>\n",
       "      <th>Company</th>\n",
       "      <th>Members</th>\n",
       "      <th>Orig. Memb.</th>\n",
       "      <th>Fanclub Name</th>\n",
       "      <th>Active</th>\n",
       "    </tr>\n",
       "  </thead>\n",
       "  <tbody>\n",
       "    <tr>\n",
       "      <th>0</th>\n",
       "      <td>100%</td>\n",
       "      <td>NaN</td>\n",
       "      <td>백퍼센트</td>\n",
       "      <td>2012-09-18</td>\n",
       "      <td>TOP Media</td>\n",
       "      <td>4</td>\n",
       "      <td>7</td>\n",
       "      <td>Perfection</td>\n",
       "      <td>Yes</td>\n",
       "    </tr>\n",
       "    <tr>\n",
       "      <th>1</th>\n",
       "      <td>14U</td>\n",
       "      <td>NaN</td>\n",
       "      <td>원포유</td>\n",
       "      <td>2017-04-17</td>\n",
       "      <td>BG</td>\n",
       "      <td>14</td>\n",
       "      <td>14</td>\n",
       "      <td>NaN</td>\n",
       "      <td>Yes</td>\n",
       "    </tr>\n",
       "    <tr>\n",
       "      <th>2</th>\n",
       "      <td>1the9</td>\n",
       "      <td>NaN</td>\n",
       "      <td>원더나인</td>\n",
       "      <td>2019-02-09</td>\n",
       "      <td>MBK</td>\n",
       "      <td>9</td>\n",
       "      <td>9</td>\n",
       "      <td>NaN</td>\n",
       "      <td>Yes</td>\n",
       "    </tr>\n",
       "    <tr>\n",
       "      <th>3</th>\n",
       "      <td>24K</td>\n",
       "      <td>NaN</td>\n",
       "      <td>투포케이</td>\n",
       "      <td>2012-09-06</td>\n",
       "      <td>Choeun</td>\n",
       "      <td>8</td>\n",
       "      <td>6</td>\n",
       "      <td>24U</td>\n",
       "      <td>Yes</td>\n",
       "    </tr>\n",
       "    <tr>\n",
       "      <th>4</th>\n",
       "      <td>2AM</td>\n",
       "      <td>NaN</td>\n",
       "      <td>투에이엠</td>\n",
       "      <td>2008-06-21</td>\n",
       "      <td>JYP, Big Hit</td>\n",
       "      <td>4</td>\n",
       "      <td>4</td>\n",
       "      <td>I Am</td>\n",
       "      <td>No</td>\n",
       "    </tr>\n",
       "  </tbody>\n",
       "</table>\n",
       "</div>"
      ],
      "text/plain": [
       "    Name Short Korean Name      Debut       Company  Members  Orig. Memb.  \\\n",
       "0   100%   NaN        백퍼센트 2012-09-18     TOP Media        4            7   \n",
       "1    14U   NaN         원포유 2017-04-17            BG       14           14   \n",
       "2  1the9   NaN        원더나인 2019-02-09           MBK        9            9   \n",
       "3    24K   NaN        투포케이 2012-09-06        Choeun        8            6   \n",
       "4    2AM   NaN        투에이엠 2008-06-21  JYP, Big Hit        4            4   \n",
       "\n",
       "  Fanclub Name Active  \n",
       "0   Perfection    Yes  \n",
       "1          NaN    Yes  \n",
       "2          NaN    Yes  \n",
       "3          24U    Yes  \n",
       "4         I Am     No  "
      ]
     },
     "execution_count": 103,
     "metadata": {},
     "output_type": "execute_result"
    }
   ],
   "source": [
    "# Import needed libraries\n",
    "\n",
    "import pandas as pd\n",
    "import numpy as np\n",
    "import matplotlib.pyplot as plt\n",
    "\n",
    "# Read in data from CSV file\n",
    "\n",
    "kpop_boygroups_data = pd.read_csv(\"kpop_idols_boy_groups.csv\", parse_dates=['Debut'])\n",
    "kpop_boygroups_data.head()"
   ]
  },
  {
   "cell_type": "code",
   "execution_count": 104,
   "metadata": {},
   "outputs": [
    {
     "data": {
      "text/html": [
       "<div>\n",
       "<style scoped>\n",
       "    .dataframe tbody tr th:only-of-type {\n",
       "        vertical-align: middle;\n",
       "    }\n",
       "\n",
       "    .dataframe tbody tr th {\n",
       "        vertical-align: top;\n",
       "    }\n",
       "\n",
       "    .dataframe thead th {\n",
       "        text-align: right;\n",
       "    }\n",
       "</style>\n",
       "<table border=\"1\" class=\"dataframe\">\n",
       "  <thead>\n",
       "    <tr style=\"text-align: right;\">\n",
       "      <th></th>\n",
       "      <th>Name</th>\n",
       "      <th>Debut</th>\n",
       "      <th>Company</th>\n",
       "      <th>Members</th>\n",
       "      <th>Orig. Memb.</th>\n",
       "      <th>Active</th>\n",
       "    </tr>\n",
       "  </thead>\n",
       "  <tbody>\n",
       "    <tr>\n",
       "      <th>0</th>\n",
       "      <td>100%</td>\n",
       "      <td>2012-09-18</td>\n",
       "      <td>TOP Media</td>\n",
       "      <td>4</td>\n",
       "      <td>7</td>\n",
       "      <td>Yes</td>\n",
       "    </tr>\n",
       "    <tr>\n",
       "      <th>1</th>\n",
       "      <td>14U</td>\n",
       "      <td>2017-04-17</td>\n",
       "      <td>BG</td>\n",
       "      <td>14</td>\n",
       "      <td>14</td>\n",
       "      <td>Yes</td>\n",
       "    </tr>\n",
       "    <tr>\n",
       "      <th>2</th>\n",
       "      <td>1the9</td>\n",
       "      <td>2019-02-09</td>\n",
       "      <td>MBK</td>\n",
       "      <td>9</td>\n",
       "      <td>9</td>\n",
       "      <td>Yes</td>\n",
       "    </tr>\n",
       "    <tr>\n",
       "      <th>3</th>\n",
       "      <td>24K</td>\n",
       "      <td>2012-09-06</td>\n",
       "      <td>Choeun</td>\n",
       "      <td>8</td>\n",
       "      <td>6</td>\n",
       "      <td>Yes</td>\n",
       "    </tr>\n",
       "    <tr>\n",
       "      <th>4</th>\n",
       "      <td>2AM</td>\n",
       "      <td>2008-06-21</td>\n",
       "      <td>JYP, Big Hit</td>\n",
       "      <td>4</td>\n",
       "      <td>4</td>\n",
       "      <td>No</td>\n",
       "    </tr>\n",
       "  </tbody>\n",
       "</table>\n",
       "</div>"
      ],
      "text/plain": [
       "    Name      Debut       Company  Members  Orig. Memb. Active\n",
       "0   100% 2012-09-18     TOP Media        4            7    Yes\n",
       "1    14U 2017-04-17            BG       14           14    Yes\n",
       "2  1the9 2019-02-09           MBK        9            9    Yes\n",
       "3    24K 2012-09-06        Choeun        8            6    Yes\n",
       "4    2AM 2008-06-21  JYP, Big Hit        4            4     No"
      ]
     },
     "execution_count": 104,
     "metadata": {},
     "output_type": "execute_result"
    }
   ],
   "source": [
    "# Clean the data and create desired dataframe for the project\n",
    "\n",
    "kpop_boygroups_data_df = kpop_boygroups_data.drop(columns=['Short', 'Korean Name', 'Fanclub Name'])\n",
    "kpop_boygroups_data_df.head()"
   ]
  },
  {
   "cell_type": "code",
   "execution_count": 105,
   "metadata": {},
   "outputs": [
    {
     "data": {
      "text/plain": [
       "0       4\n",
       "1      14\n",
       "2       9\n",
       "3       8\n",
       "4       4\n",
       "       ..\n",
       "142     4\n",
       "143    11\n",
       "144     5\n",
       "145     4\n",
       "146     9\n",
       "Name: Members, Length: 147, dtype: int64"
      ]
     },
     "execution_count": 105,
     "metadata": {},
     "output_type": "execute_result"
    }
   ],
   "source": [
    "# Show the members column only to begin analyzing that section of data\n",
    "\n",
    "kpop_boygroups_data_df[\"Members\"]"
   ]
  },
  {
   "cell_type": "code",
   "execution_count": 106,
   "metadata": {},
   "outputs": [
    {
     "name": "stdout",
     "output_type": "stream",
     "text": [
      "18\n"
     ]
    }
   ],
   "source": [
    "# Calculate the maximum number of members current in a group\n",
    "\n",
    "max_members = kpop_boygroups_data_df[\"Members\"].max()\n",
    "print(max_members)"
   ]
  },
  {
   "cell_type": "code",
   "execution_count": 107,
   "metadata": {},
   "outputs": [
    {
     "name": "stdout",
     "output_type": "stream",
     "text": [
      "5.0\n"
     ]
    }
   ],
   "source": [
    "# Calculate the median of the Members column\n",
    "\n",
    "median_members = kpop_boygroups_data_df[\"Members\"].median()\n",
    "print(median_members)"
   ]
  },
  {
   "cell_type": "code",
   "execution_count": 108,
   "metadata": {},
   "outputs": [
    {
     "name": "stdout",
     "output_type": "stream",
     "text": [
      "2\n"
     ]
    }
   ],
   "source": [
    "# Calculate the minimum number of members in a group\n",
    "\n",
    "min_members = kpop_boygroups_data_df[\"Members\"].min()\n",
    "print(min_members)"
   ]
  },
  {
   "cell_type": "code",
   "execution_count": 109,
   "metadata": {},
   "outputs": [
    {
     "data": {
      "text/plain": [
       "0       7\n",
       "1      14\n",
       "2       9\n",
       "3       6\n",
       "4       4\n",
       "       ..\n",
       "142     4\n",
       "143    11\n",
       "144     5\n",
       "145     5\n",
       "146     9\n",
       "Name: Orig. Memb., Length: 147, dtype: int64"
      ]
     },
     "execution_count": 109,
     "metadata": {},
     "output_type": "execute_result"
    }
   ],
   "source": [
    "# Show the original members column only to begin analyzing that section of data\n",
    "\n",
    "kpop_boygroups_data_df[\"Orig. Memb.\"]"
   ]
  },
  {
   "cell_type": "code",
   "execution_count": 110,
   "metadata": {},
   "outputs": [
    {
     "name": "stdout",
     "output_type": "stream",
     "text": [
      "18\n"
     ]
    }
   ],
   "source": [
    "# Calculate the most amount of original members in a group\n",
    "\n",
    "max_original = kpop_boygroups_data_df[\"Orig. Memb.\"].max()\n",
    "print(max_original)"
   ]
  },
  {
   "cell_type": "code",
   "execution_count": 111,
   "metadata": {},
   "outputs": [
    {
     "name": "stdout",
     "output_type": "stream",
     "text": [
      "6.0\n"
     ]
    }
   ],
   "source": [
    "# Calculate the median amount of original members in a group\n",
    "\n",
    "median_original = kpop_boygroups_data_df[\"Orig. Memb.\"].median()\n",
    "print(median_original)"
   ]
  },
  {
   "cell_type": "code",
   "execution_count": 112,
   "metadata": {},
   "outputs": [
    {
     "name": "stdout",
     "output_type": "stream",
     "text": [
      "2\n"
     ]
    }
   ],
   "source": [
    "# Calculate the minimum amount of original members in a group\n",
    "\n",
    "min_original = kpop_boygroups_data_df[\"Orig. Memb.\"].min()\n",
    "print(min_original)"
   ]
  },
  {
   "cell_type": "code",
   "execution_count": 113,
   "metadata": {},
   "outputs": [
    {
     "data": {
      "text/plain": [
       "0     2012-09-18\n",
       "1     2017-04-17\n",
       "2     2019-02-09\n",
       "3     2012-09-06\n",
       "4     2008-06-21\n",
       "         ...    \n",
       "142   2016-06-12\n",
       "143   2017-08-07\n",
       "144   2019-05-27\n",
       "145   2014-08-12\n",
       "146   2010-01-07\n",
       "Name: Debut, Length: 147, dtype: datetime64[ns]"
      ]
     },
     "execution_count": 113,
     "metadata": {},
     "output_type": "execute_result"
    }
   ],
   "source": [
    "# Show the debut column only to analyze that data\n",
    "\n",
    "kpop_boygroups_data_df[\"Debut\"]"
   ]
  },
  {
   "cell_type": "code",
   "execution_count": 114,
   "metadata": {},
   "outputs": [
    {
     "name": "stdout",
     "output_type": "stream",
     "text": [
      "2015-05-26 00:00:00\n"
     ]
    }
   ],
   "source": [
    "# Calculate median debut date of a group\n",
    "\n",
    "median_debut = kpop_boygroups_data_df[\"Debut\"].median()\n",
    "print(median_debut)"
   ]
  },
  {
   "cell_type": "code",
   "execution_count": 115,
   "metadata": {},
   "outputs": [
    {
     "name": "stdout",
     "output_type": "stream",
     "text": [
      "0   2009-10-14\n",
      "1   2014-07-09\n",
      "2   2015-05-20\n",
      "3   2016-02-23\n",
      "Name: Debut, dtype: datetime64[ns]\n"
     ]
    }
   ],
   "source": [
    "# Calculate most frequent debut dates for groups\n",
    "\n",
    "mode_debut = kpop_boygroups_data_df[\"Debut\"].mode()\n",
    "print(mode_debut)"
   ]
  },
  {
   "cell_type": "code",
   "execution_count": 116,
   "metadata": {},
   "outputs": [
    {
     "data": {
      "text/plain": [
       "0         TOP Media\n",
       "1                BG\n",
       "2               MBK\n",
       "3            Choeun\n",
       "4      JYP, Big Hit\n",
       "           ...     \n",
       "142             RBW\n",
       "143             YMC\n",
       "144           Choon\n",
       "145              YG\n",
       "146     Star Empire\n",
       "Name: Company, Length: 147, dtype: object"
      ]
     },
     "execution_count": 116,
     "metadata": {},
     "output_type": "execute_result"
    }
   ],
   "source": [
    "# Pull out the company data column\n",
    "\n",
    "kpop_boygroups_data_df[\"Company\"]"
   ]
  },
  {
   "cell_type": "code",
   "execution_count": 117,
   "metadata": {},
   "outputs": [
    {
     "name": "stdout",
     "output_type": "stream",
     "text": [
      "0    SM\n",
      "Name: Company, dtype: object\n"
     ]
    }
   ],
   "source": [
    "# Calculate the company who has debuted the most groups\n",
    "\n",
    "mode_company = kpop_boygroups_data_df[\"Company\"].mode()\n",
    "print(mode_company)"
   ]
  },
  {
   "cell_type": "code",
   "execution_count": 118,
   "metadata": {},
   "outputs": [],
   "source": [
    "# Analyze if any companies have only debuted one group\n",
    "\n"
   ]
  },
  {
   "cell_type": "code",
   "execution_count": 119,
   "metadata": {},
   "outputs": [
    {
     "data": {
      "image/png": "[encoded data removed]",
      "text/plain": [
       "<Figure size 432x288 with 1 Axes>"
      ]
     },
     "metadata": {},
     "output_type": "display_data"
    }
   ],
   "source": [
    "# Plot the current statuses of groups to determine how many are active vs. how many are not or are on hiatus\n",
    "\n",
    "group_status=['Active', 'Inactive', 'On Hiatus']\n",
    "group_values=[110,33,4]\n",
    "\n",
    "plt.pie(group_values, labels=group_status, startangle=0, explode=[0,0,0], shadow=True, colors=['green', 'red', 'yellow'])\n",
    "\n",
    "plt.legend(title='Group Status')\n",
    "plt.show()"
   ]
  }
 ],
 "metadata": {
  "kernelspec": {
   "display_name": "Python 3.9.12 ('base')",
   "language": "python",
   "name": "python3"
  },
  "language_info": {
   "codemirror_mode": {
    "name": "ipython",
    "version": 3
   },
   "file_extension": ".py",
   "mimetype": "text/x-python",
   "name": "python",
   "nbconvert_exporter": "python",
   "pygments_lexer": "ipython3",
   "version": "3.9.12"
  },
  "orig_nbformat": 4,
  "vscode": {
   "interpreter": {
    "hash": "bbab9a5d60e967f1c0ef9a24df9e3b901bd1c2f0a61b78c54ec71691186d555f"
   }
  }
 },
 "nbformat": 4,
 "nbformat_minor": 2
}
