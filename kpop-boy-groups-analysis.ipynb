{
 "cells": [
  {
   "cell_type": "markdown",
   "metadata": {},
   "source": [
    "# **Importing the Libraries and Data** #\n",
    "\n",
    "I imported the needed libraries for this project and then read in the data from a .csv file."
   ]
  },
  {
   "cell_type": "code",
   "execution_count": 19,
   "metadata": {},
   "outputs": [
    {
     "data": {
      "text/html": [
       "<div>\n",
       "<style scoped>\n",
       "    .dataframe tbody tr th:only-of-type {\n",
       "        vertical-align: middle;\n",
       "    }\n",
       "\n",
       "    .dataframe tbody tr th {\n",
       "        vertical-align: top;\n",
       "    }\n",
       "\n",
       "    .dataframe thead th {\n",
       "        text-align: right;\n",
       "    }\n",
       "</style>\n",
       "<table border=\"1\" class=\"dataframe\">\n",
       "  <thead>\n",
       "    <tr style=\"text-align: right;\">\n",
       "      <th></th>\n",
       "      <th>Name</th>\n",
       "      <th>Short</th>\n",
       "      <th>Korean Name</th>\n",
       "      <th>Debut</th>\n",
       "      <th>Company</th>\n",
       "      <th>Members</th>\n",
       "      <th>Orig. Memb.</th>\n",
       "      <th>Fanclub Name</th>\n",
       "      <th>Active</th>\n",
       "    </tr>\n",
       "  </thead>\n",
       "  <tbody>\n",
       "    <tr>\n",
       "      <th>0</th>\n",
       "      <td>100%</td>\n",
       "      <td>NaN</td>\n",
       "      <td>백퍼센트</td>\n",
       "      <td>2012-09-18</td>\n",
       "      <td>TOP Media</td>\n",
       "      <td>4</td>\n",
       "      <td>7</td>\n",
       "      <td>Perfection</td>\n",
       "      <td>Yes</td>\n",
       "    </tr>\n",
       "    <tr>\n",
       "      <th>1</th>\n",
       "      <td>14U</td>\n",
       "      <td>NaN</td>\n",
       "      <td>원포유</td>\n",
       "      <td>2017-04-17</td>\n",
       "      <td>BG</td>\n",
       "      <td>14</td>\n",
       "      <td>14</td>\n",
       "      <td>NaN</td>\n",
       "      <td>Yes</td>\n",
       "    </tr>\n",
       "    <tr>\n",
       "      <th>2</th>\n",
       "      <td>1the9</td>\n",
       "      <td>NaN</td>\n",
       "      <td>원더나인</td>\n",
       "      <td>2019-02-09</td>\n",
       "      <td>MBK</td>\n",
       "      <td>9</td>\n",
       "      <td>9</td>\n",
       "      <td>NaN</td>\n",
       "      <td>Yes</td>\n",
       "    </tr>\n",
       "    <tr>\n",
       "      <th>3</th>\n",
       "      <td>24K</td>\n",
       "      <td>NaN</td>\n",
       "      <td>투포케이</td>\n",
       "      <td>2012-09-06</td>\n",
       "      <td>Choeun</td>\n",
       "      <td>8</td>\n",
       "      <td>6</td>\n",
       "      <td>24U</td>\n",
       "      <td>Yes</td>\n",
       "    </tr>\n",
       "    <tr>\n",
       "      <th>4</th>\n",
       "      <td>2AM</td>\n",
       "      <td>NaN</td>\n",
       "      <td>투에이엠</td>\n",
       "      <td>2008-06-21</td>\n",
       "      <td>JYP, Big Hit</td>\n",
       "      <td>4</td>\n",
       "      <td>4</td>\n",
       "      <td>I Am</td>\n",
       "      <td>No</td>\n",
       "    </tr>\n",
       "  </tbody>\n",
       "</table>\n",
       "</div>"
      ],
      "text/plain": [
       "    Name Short Korean Name      Debut       Company  Members  Orig. Memb.  \\\n",
       "0   100%   NaN        백퍼센트 2012-09-18     TOP Media        4            7   \n",
       "1    14U   NaN         원포유 2017-04-17            BG       14           14   \n",
       "2  1the9   NaN        원더나인 2019-02-09           MBK        9            9   \n",
       "3    24K   NaN        투포케이 2012-09-06        Choeun        8            6   \n",
       "4    2AM   NaN        투에이엠 2008-06-21  JYP, Big Hit        4            4   \n",
       "\n",
       "  Fanclub Name Active  \n",
       "0   Perfection    Yes  \n",
       "1          NaN    Yes  \n",
       "2          NaN    Yes  \n",
       "3          24U    Yes  \n",
       "4         I Am     No  "
      ]
     },
     "execution_count": 19,
     "metadata": {},
     "output_type": "execute_result"
    }
   ],
   "source": [
    "# Import needed libraries\n",
    "\n",
    "import pandas as pd\n",
    "import numpy as np\n",
    "import matplotlib.pyplot as plt\n",
    "\n",
    "# Read in data from CSV file\n",
    "\n",
    "kpop_boygroups_data = pd.read_csv(\"kpop_idols_boy_groups.csv\", parse_dates=['Debut'])\n",
    "kpop_boygroups_data.head()"
   ]
  },
  {
   "cell_type": "markdown",
   "metadata": {},
   "source": [
    "# **Cleaning the Data** #\n",
    "\n",
    "I cleaned the data by removing columns of data I did not need for this project using drop() in pandas. Then I create my desired dataframe."
   ]
  },
  {
   "cell_type": "code",
   "execution_count": 20,
   "metadata": {},
   "outputs": [
    {
     "data": {
      "text/html": [
       "<div>\n",
       "<style scoped>\n",
       "    .dataframe tbody tr th:only-of-type {\n",
       "        vertical-align: middle;\n",
       "    }\n",
       "\n",
       "    .dataframe tbody tr th {\n",
       "        vertical-align: top;\n",
       "    }\n",
       "\n",
       "    .dataframe thead th {\n",
       "        text-align: right;\n",
       "    }\n",
       "</style>\n",
       "<table border=\"1\" class=\"dataframe\">\n",
       "  <thead>\n",
       "    <tr style=\"text-align: right;\">\n",
       "      <th></th>\n",
       "      <th>Debut</th>\n",
       "      <th>Company</th>\n",
       "      <th>Members</th>\n",
       "      <th>Orig. Memb.</th>\n",
       "      <th>Active</th>\n",
       "    </tr>\n",
       "  </thead>\n",
       "  <tbody>\n",
       "    <tr>\n",
       "      <th>0</th>\n",
       "      <td>2012-09-18</td>\n",
       "      <td>TOP Media</td>\n",
       "      <td>4</td>\n",
       "      <td>7</td>\n",
       "      <td>Yes</td>\n",
       "    </tr>\n",
       "    <tr>\n",
       "      <th>1</th>\n",
       "      <td>2017-04-17</td>\n",
       "      <td>BG</td>\n",
       "      <td>14</td>\n",
       "      <td>14</td>\n",
       "      <td>Yes</td>\n",
       "    </tr>\n",
       "    <tr>\n",
       "      <th>2</th>\n",
       "      <td>2019-02-09</td>\n",
       "      <td>MBK</td>\n",
       "      <td>9</td>\n",
       "      <td>9</td>\n",
       "      <td>Yes</td>\n",
       "    </tr>\n",
       "    <tr>\n",
       "      <th>3</th>\n",
       "      <td>2012-09-06</td>\n",
       "      <td>Choeun</td>\n",
       "      <td>8</td>\n",
       "      <td>6</td>\n",
       "      <td>Yes</td>\n",
       "    </tr>\n",
       "    <tr>\n",
       "      <th>4</th>\n",
       "      <td>2008-06-21</td>\n",
       "      <td>JYP, Big Hit</td>\n",
       "      <td>4</td>\n",
       "      <td>4</td>\n",
       "      <td>No</td>\n",
       "    </tr>\n",
       "  </tbody>\n",
       "</table>\n",
       "</div>"
      ],
      "text/plain": [
       "       Debut       Company  Members  Orig. Memb. Active\n",
       "0 2012-09-18     TOP Media        4            7    Yes\n",
       "1 2017-04-17            BG       14           14    Yes\n",
       "2 2019-02-09           MBK        9            9    Yes\n",
       "3 2012-09-06        Choeun        8            6    Yes\n",
       "4 2008-06-21  JYP, Big Hit        4            4     No"
      ]
     },
     "execution_count": 20,
     "metadata": {},
     "output_type": "execute_result"
    }
   ],
   "source": [
    "# Clean the data and create desired dataframe for the project\n",
    "\n",
    "kpop_boygroups_data_df = kpop_boygroups_data.drop(columns=['Name', 'Short', 'Korean Name', 'Fanclub Name'])\n",
    "kpop_boygroups_data_df.head()"
   ]
  },
  {
   "cell_type": "markdown",
   "metadata": {},
   "source": [
    "# **Analyzing the Data** #\n",
    "\n",
    "Below I will explain how I analyzed the data of group structure, debuts, and companies of kpop boy groups.\n",
    "\n",
    "**Current Members**\n",
    "\n",
    "I isolated the Members column of the data to analyze the current structure of groups."
   ]
  },
  {
   "cell_type": "code",
   "execution_count": 21,
   "metadata": {},
   "outputs": [
    {
     "data": {
      "text/plain": [
       "0       4\n",
       "1      14\n",
       "2       9\n",
       "3       8\n",
       "4       4\n",
       "       ..\n",
       "142     4\n",
       "143    11\n",
       "144     5\n",
       "145     4\n",
       "146     9\n",
       "Name: Members, Length: 147, dtype: int64"
      ]
     },
     "execution_count": 21,
     "metadata": {},
     "output_type": "execute_result"
    }
   ],
   "source": [
    "# Show the members column only to begin analyzing that section of data\n",
    "\n",
    "kpop_boygroups_data_df[\"Members\"]"
   ]
  },
  {
   "cell_type": "markdown",
   "metadata": {},
   "source": [
    "Here I wanted to calculate the maximum number of members in a group currently. Kpop is interesting because while the majority of boybands in the west are often comprised of five members, there are different amounts in a lot of groups. Below you'll see the biggest boy group in kpop has 18 active members. I used the max() function to find the largest group. I named my variable max_members and then printed it to show the result."
   ]
  },
  {
   "cell_type": "code",
   "execution_count": 22,
   "metadata": {},
   "outputs": [
    {
     "name": "stdout",
     "output_type": "stream",
     "text": [
      "18\n"
     ]
    }
   ],
   "source": [
    "# Calculate the maximum number of members current in a group\n",
    "\n",
    "max_members = kpop_boygroups_data_df[\"Members\"].max()\n",
    "print(max_members)"
   ]
  },
  {
   "cell_type": "markdown",
   "metadata": {},
   "source": [
    "I also wanted to determine the median number of members in a group by using the median() function in pandas and printing the result of my median_members variable. Interestingly, even though there are large groups with members in the double digits, five still appears to be the sweet spot for kpop groups like it is western boybands. This is especially interesting considering some of the most famous kpop groups like BTS, EXO, Seventeen, NCT, and Super Junior all have more than five members in their groups."
   ]
  },
  {
   "cell_type": "code",
   "execution_count": 23,
   "metadata": {},
   "outputs": [
    {
     "name": "stdout",
     "output_type": "stream",
     "text": [
      "5.0\n"
     ]
    }
   ],
   "source": [
    "# Calculate the median of the Members column\n",
    "\n",
    "median_members = kpop_boygroups_data_df[\"Members\"].median()\n",
    "print(median_members)"
   ]
  },
  {
   "cell_type": "markdown",
   "metadata": {},
   "source": [
    "Calculating the minimum numbers of members in a group goes hand in hand with calculating the maximum number of members. I used the pandas min() function and then printed my min_members variable for the result. I was surprised to see that there is at least one \"group\" with only two members. I went back to the original .csv file to examine the column there and discovered there are actually several groups with only two members and the majority of them are still active."
   ]
  },
  {
   "cell_type": "code",
   "execution_count": 24,
   "metadata": {},
   "outputs": [
    {
     "name": "stdout",
     "output_type": "stream",
     "text": [
      "2\n"
     ]
    }
   ],
   "source": [
    "# Calculate the minimum number of members in a group\n",
    "\n",
    "min_members = kpop_boygroups_data_df[\"Members\"].min()\n",
    "print(min_members)"
   ]
  },
  {
   "cell_type": "markdown",
   "metadata": {},
   "source": [
    "I used the pandas function sum() to determine how many men in total are currently working as idols in groups in the kpop industry. After printing the sum_members variable, I was surprised by how large the numner was, but given the number of active groups and the various amount of members each group has, the large number made sense."
   ]
  },
  {
   "cell_type": "code",
   "execution_count": 25,
   "metadata": {},
   "outputs": [
    {
     "name": "stdout",
     "output_type": "stream",
     "text": [
      "873\n"
     ]
    }
   ],
   "source": [
    "# Calculate how many men are currently working in the kpop industry\n",
    "\n",
    "sum_members = kpop_boygroups_data_df[\"Members\"].sum()\n",
    "print(sum_members)"
   ]
  },
  {
   "cell_type": "markdown",
   "metadata": {},
   "source": [
    "To go along with the analysis of current members, I wanted to plot out how many groups are currently active compared to those who have disbanded over the years or went on hiatus. I created a list for the group_statuses and group_values. From there I did a for loop for the Active data column with if statements to create the pie chart. I plotted out the chart by using the group_statues list items as my labels and then I exploded the pie chart to emphasize the active piece of the pie. As you can see, this large percentage of groups still being active in the industry explains how so many idols are still active."
   ]
  },
  {
   "cell_type": "code",
   "execution_count": 26,
   "metadata": {},
   "outputs": [
    {
     "data": {
      "image/png": "[encoded data removed]",
      "text/plain": [
       "<Figure size 432x288 with 1 Axes>"
      ]
     },
     "metadata": {},
     "output_type": "display_data"
    }
   ],
   "source": [
    "# Plot the current statuses of groups to determine how many are active vs. how many are not or are on hiatus\n",
    "\n",
    "group_status = ['Active', 'Inactive', 'On Hiatus']\n",
    "group_values = [0,0,0]\n",
    "for status in kpop_boygroups_data_df[\"Active\"]:\n",
    "    if status == \"Yes\":\n",
    "        group_values[0] += 1\n",
    "    if status == \"No\":\n",
    "        group_values[1] += 1\n",
    "    if status == \"Hiatus\":\n",
    "        group_values[2] += 1\n",
    "\n",
    "plt.pie(group_values, labels=group_status, startangle=0, explode=[0.1,0,0], shadow=True, colors=['green', 'red', 'yellow'])\n",
    "\n",
    "plt.legend(title='Group Status')\n",
    "plt.show()"
   ]
  },
  {
   "cell_type": "markdown",
   "metadata": {},
   "source": [
    "**Original Members**\n",
    "\n",
    "After seven years, kpop groups' contracts are up for renewal. Sometimes, groups will choose to carry on without one or two members because not all of them renewed their contracts with the company. Other times, members are let go from groups due to public scandals or health issues. I wanted to see if there was a dramatic difference between current members and original members.\n",
    "\n",
    "Here, I isolated the original members column."
   ]
  },
  {
   "cell_type": "code",
   "execution_count": 27,
   "metadata": {},
   "outputs": [
    {
     "data": {
      "text/plain": [
       "0       7\n",
       "1      14\n",
       "2       9\n",
       "3       6\n",
       "4       4\n",
       "       ..\n",
       "142     4\n",
       "143    11\n",
       "144     5\n",
       "145     5\n",
       "146     9\n",
       "Name: Orig. Memb., Length: 147, dtype: int64"
      ]
     },
     "execution_count": 27,
     "metadata": {},
     "output_type": "execute_result"
    }
   ],
   "source": [
    "# Show the original members column only to begin analyzing that section of data\n",
    "\n",
    "kpop_boygroups_data_df[\"Orig. Memb.\"]"
   ]
  },
  {
   "cell_type": "markdown",
   "metadata": {},
   "source": [
    "From there, I wanted to roughly repeat the same process I did when analyzing the data of the current members. I calculated the maximum amount of members using the max() function again. The same result was printed as it was with current members considering that large group is still active in the industry."
   ]
  },
  {
   "cell_type": "code",
   "execution_count": 28,
   "metadata": {},
   "outputs": [
    {
     "name": "stdout",
     "output_type": "stream",
     "text": [
      "18\n"
     ]
    }
   ],
   "source": [
    "# Calculate the most amount of original members in a group\n",
    "\n",
    "max_original = kpop_boygroups_data_df[\"Orig. Memb.\"].max()\n",
    "print(max_original)"
   ]
  },
  {
   "cell_type": "markdown",
   "metadata": {},
   "source": [
    "I also calculated the median again using the median(). This time I got a median of 6, which wasn't all that surprising to me based on my knowledge of kpop. It's not at all uncommon for groups to lose a member after contract renewals and that appears to be represented here in the calculation. "
   ]
  },
  {
   "cell_type": "code",
   "execution_count": 29,
   "metadata": {},
   "outputs": [
    {
     "name": "stdout",
     "output_type": "stream",
     "text": [
      "6.0\n"
     ]
    }
   ],
   "source": [
    "# Calculate the median amount of original members in a group\n",
    "\n",
    "median_original = kpop_boygroups_data_df[\"Orig. Memb.\"].median()\n",
    "print(median_original)"
   ]
  },
  {
   "cell_type": "markdown",
   "metadata": {},
   "source": [
    "The minimum amount of original members was calculated using the min() function and I got the same result as current members again after printing. That shows that those groups with only two members did not all get that number due to losing members; at least one group was originally structured as a duo."
   ]
  },
  {
   "cell_type": "code",
   "execution_count": 30,
   "metadata": {},
   "outputs": [
    {
     "name": "stdout",
     "output_type": "stream",
     "text": [
      "2\n"
     ]
    }
   ],
   "source": [
    "# Calculate the minimum amount of original members in a group\n",
    "\n",
    "min_original = kpop_boygroups_data_df[\"Orig. Memb.\"].min()\n",
    "print(min_original)"
   ]
  },
  {
   "cell_type": "markdown",
   "metadata": {},
   "source": [
    "**Debuts**\n",
    "\n",
    "Along with member structure, I wanted to analyze the debuts of kpop groups.\n",
    "\n",
    "The first thing I did was isolate the Debut data column."
   ]
  },
  {
   "cell_type": "code",
   "execution_count": 31,
   "metadata": {},
   "outputs": [
    {
     "data": {
      "text/plain": [
       "0     2012-09-18\n",
       "1     2017-04-17\n",
       "2     2019-02-09\n",
       "3     2012-09-06\n",
       "4     2008-06-21\n",
       "         ...    \n",
       "142   2016-06-12\n",
       "143   2017-08-07\n",
       "144   2019-05-27\n",
       "145   2014-08-12\n",
       "146   2010-01-07\n",
       "Name: Debut, Length: 147, dtype: datetime64[ns]"
      ]
     },
     "execution_count": 31,
     "metadata": {},
     "output_type": "execute_result"
    }
   ],
   "source": [
    "# Show the debut column only to analyze that data\n",
    "\n",
    "kpop_boygroups_data_df[\"Debut\"]"
   ]
  },
  {
   "cell_type": "markdown",
   "metadata": {},
   "source": [
    "I chose to calculate the median of debuts with the median() function because I wanted to see what the mid point of kpop as a genre is at this point in time. It resulted in a date of May 26, 2015. That falls right in the middle the third generation of kpop. For reference, we are currently in the fourth generation of the genre."
   ]
  },
  {
   "cell_type": "code",
   "execution_count": 32,
   "metadata": {},
   "outputs": [
    {
     "name": "stdout",
     "output_type": "stream",
     "text": [
      "2015-05-26 00:00:00\n"
     ]
    }
   ],
   "source": [
    "# Calculate median debut date of a group\n",
    "\n",
    "median_debut = kpop_boygroups_data_df[\"Debut\"].median()\n",
    "print(median_debut)"
   ]
  },
  {
   "cell_type": "markdown",
   "metadata": {},
   "source": [
    "I also wanted to find the most frequent debut dates. I assumed there were instances where more than one group debuted on a single date and that ended up being true for multiple dates. I was interested in calculating this aspect because I had my own theories on what generation the majority of groups likely debuted. I hypothesized that the majority of groups debuted in the third generation of kpop that lasted from rougly 2012-2020, although there are still arguments within the fandom about that ending date. As you can see, aside from the 2009 date, the others were 2014, 2015, and 2016. This showed that my instincts were largely correct. My reasoning for that was due to the continuation of the Korean Wave that began with the second generation with a group like EXO being created to partially target the Chinese market as well as the international, especially US, success of BTS."
   ]
  },
  {
   "cell_type": "code",
   "execution_count": 33,
   "metadata": {},
   "outputs": [
    {
     "name": "stdout",
     "output_type": "stream",
     "text": [
      "0   2009-10-14\n",
      "1   2014-07-09\n",
      "2   2015-05-20\n",
      "3   2016-02-23\n",
      "Name: Debut, dtype: datetime64[ns]\n"
     ]
    }
   ],
   "source": [
    "# Calculate most frequent debut dates for groups\n",
    "\n",
    "mode_debut = kpop_boygroups_data_df[\"Debut\"].mode()\n",
    "print(mode_debut)"
   ]
  },
  {
   "cell_type": "markdown",
   "metadata": {},
   "source": [
    "**Companies**\n",
    "\n",
    "Finally, I analyzed the Company data. As usual, I began by isolating the data."
   ]
  },
  {
   "cell_type": "code",
   "execution_count": 34,
   "metadata": {},
   "outputs": [
    {
     "data": {
      "text/plain": [
       "0         TOP Media\n",
       "1                BG\n",
       "2               MBK\n",
       "3            Choeun\n",
       "4      JYP, Big Hit\n",
       "           ...     \n",
       "142             RBW\n",
       "143             YMC\n",
       "144           Choon\n",
       "145              YG\n",
       "146     Star Empire\n",
       "Name: Company, Length: 147, dtype: object"
      ]
     },
     "execution_count": 34,
     "metadata": {},
     "output_type": "execute_result"
    }
   ],
   "source": [
    "# Pull out the company data column\n",
    "\n",
    "kpop_boygroups_data_df[\"Company\"]"
   ]
  },
  {
   "cell_type": "markdown",
   "metadata": {},
   "source": [
    "First, I wanted to calculate which company debuted the most groups. Again, I used the mode function to do this. I got SM as the result. SM Entertainment is the oldest kpop entertainment company so this result made sense. They're the home of some of the most famous boy groups such as EXO, SHINee, Super Junior, and TVXQ."
   ]
  },
  {
   "cell_type": "code",
   "execution_count": 35,
   "metadata": {},
   "outputs": [
    {
     "name": "stdout",
     "output_type": "stream",
     "text": [
      "0    SM\n",
      "Name: Company, dtype: object\n"
     ]
    }
   ],
   "source": [
    "# Calculate the company who has debuted the most groups\n",
    "\n",
    "mode_company = kpop_boygroups_data_df[\"Company\"].mode()\n",
    "print(mode_company)"
   ]
  },
  {
   "cell_type": "markdown",
   "metadata": {},
   "source": [
    "While SM Entertainment is the oldest company, two others are not far behind in age. YG Entertainment and JYP Entertainment have been around since the 1990s just like SM. Together, these three groups make up what is known in the fandom as the Big 3 (although since the rise of popularity of BTS, some are pushing for a new term because their company, while fairly new, is becoming quite large). As it stands, these are the companies who have likely produced the largest numbers of groups over the years because of the lifespan and financial stability.\n",
    "\n",
    "I also knew SM debuted the most groups, but I wanted to plot a bar graph to show a comparison between that company and the other two Big 3 companies. To do that, I created a dictionary and then a for loop with if statements. After that, I plotted my bar graph with the bars representing each company. I found that JYP debuted the second largest number of groups with YG coming in third. This definitely falls in line with many fandom inside jokes regarding the slowness of YG Entertainment in their groups' activities."
   ]
  },
  {
   "cell_type": "code",
   "execution_count": 36,
   "metadata": {},
   "outputs": [
    {
     "data": {
      "image/png": "[encoded data removed]",
      "text/plain": [
       "<Figure size 864x504 with 1 Axes>"
      ]
     },
     "metadata": {
      "needs_background": "light"
     },
     "output_type": "display_data"
    }
   ],
   "source": [
    "# Plot how many groups have debuted under one of the Big 3 companies\n",
    "\n",
    "counts = {'JYP': 0, 'YG': 0, 'SM': 0}\n",
    "for company in kpop_boygroups_data_df[\"Company\"]:\n",
    "    if company == 'JYP':\n",
    "        counts['JYP'] += 1\n",
    "    if company == 'YG':\n",
    "        counts['YG'] += 1\n",
    "    if company == 'SM':\n",
    "        counts['SM'] += 1\n",
    "companies = list(counts.keys())\n",
    "values = list(counts.values())\n",
    "\n",
    "fig = plt.figure(figsize = (12, 7))\n",
    "\n",
    "#Create the bar graph for the visualization\n",
    "\n",
    "plt.bar(companies, values, color = 'blue', width = 0.6)\n",
    "\n",
    "plt.xlabel(\"Companies\")\n",
    "plt.ylabel(\"No. of groups debuted\")\n",
    "plt.title(\"Groups from the Big 3\")\n",
    "plt.show()"
   ]
  },
  {
   "cell_type": "markdown",
   "metadata": {},
   "source": [
    "**Final Thoughts**\n",
    "\n",
    "I was happy to see that some of the assumptions I've made as a fan are actually correct based off of this data. It was informative and very interesting as a fan to be able to analyze these numbers and it's inspired me to dig deeper into other hypotheses I have regarding the genre and fandom surrounding it. Thanks!"
   ]
  }
 ],
 "metadata": {
  "kernelspec": {
   "display_name": "Python 3 (ipykernel)",
   "language": "python",
   "name": "python3"
  },
  "language_info": {
   "codemirror_mode": {
    "name": "ipython",
    "version": 3
   },
   "file_extension": ".py",
   "mimetype": "text/x-python",
   "name": "python",
   "nbconvert_exporter": "python",
   "pygments_lexer": "ipython3",
   "version": "3.9.12"
  },
  "vscode": {
   "interpreter": {
    "hash": "bbab9a5d60e967f1c0ef9a24df9e3b901bd1c2f0a61b78c54ec71691186d555f"
   }
  }
 },
 "nbformat": 4,
 "nbformat_minor": 2
}
